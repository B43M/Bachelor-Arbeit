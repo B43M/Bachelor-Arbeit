{
 "cells": [
  {
   "cell_type": "code",
   "execution_count": null,
   "metadata": {},
   "outputs": [],
   "source": [
    "import pandas as pd\n",
    "\n",
    "# combinating data for raw and persona run\n",
    "these_data = pd.read_excel('Data\\Fulldata.xlsx')\n",
    "persona_data = pd.read_excel('Data\\Personas.xlsx')\n",
    "raw_questions = pd.DataFrame(None, columns=[\"Prompt\", \"Answer\", \"AllAnswers\"])\n",
    "for i in range(97):\n",
    "    for j in these_data.index:\n",
    "        if (these_data[\"These: Nr.\"][j] == i):\n",
    "            question = \"Skala:\\n 1: 'stimme gar nicht zu'\\n 2: 'Stimme nur teilweise zu'\\n 3: 'neutral'\\n 4: 'Stimme stark zu' \\n 5: 'stimme vollkommen zu'\\n Stimmst du der folgenden Aussage zu? \\n'\"+ these_data[\"These: These\"][j] +\"'\\n Antworte auf einer Skala von 1 bis 5.\\n Antwort:\"\n",
    "            raw_questions.loc[len(raw_questions.index)] = {\"Prompt\": question}\n",
    "            break\n",
    "persona_questions = pd.DataFrame(None, columns=[\"PartyId\", \"SourceId\", \"Prompt\", \"TheseId\", \"PartyPosition\", \"Answer\", \"FullAnswer\"])\n",
    "for index, these_row in these_data.iterrows():\n",
    "    for index, persona_row in persona_data.iterrows():\n",
    "        if(these_row['Partei: Nr.'] == persona_row['PartyId']):\n",
    "            prompt =\"Selbstbeschreibung: \\n'\" + persona_row['Persona']+ \"'\\n \" + \"Skala:\\n 1: 'stimme gar nicht zu'\\n 2: 'Stimme nur teilweise zu'\\n 3: 'neutral'\\n 4: 'Stimme stark zu' \\n 5: 'stimme vollkommen zu'\\n Stimmst du der folgenden Aussage zu? '\" + these_row['These: These'] + \"' Antworte auf einer Skala von 1 bis 5.\\n Antwort:\"\n",
    "            persona_questions.loc[len(persona_questions.index)] = {\"PartyId\": persona_row['PartyId'], \"SourceId\": persona_row['SourceId'], \"Prompt\": prompt, \"TheseId\": these_row['These: Nr.'], \"PartyPosition\": these_row['Position: Position']}\n",
    "\n",
    "        "
   ]
  },
  {
   "cell_type": "code",
   "execution_count": null,
   "metadata": {},
   "outputs": [],
   "source": [
    "# save result\n",
    "def saveToSvg(questionaire, name, raw_run):\n",
    "    if raw_run:\n",
    "        appendix = '_raw.csv'\n",
    "    else:\n",
    "        appendix = '_persona.csv'\n",
    "    questionaire.to_csv('Results/' + name + appendix)"
   ]
  },
  {
   "cell_type": "code",
   "execution_count": null,
   "metadata": {},
   "outputs": [],
   "source": [
    "# dfki api requests\n",
    "import requests\n",
    "import json\n",
    "import re\n",
    "import numpy as np\n",
    "\n",
    "def doExperiment(questionaire, raw_run):\n",
    "  url = \"http://serv-3340.kl.dfki.de:5000\"\n",
    "  for index, row in questionaire.iterrows():\n",
    "    body = {\n",
    "      \"inputs\": row['Prompt'],\n",
    "      \"parameters\": {\n",
    "        \"max_new_tokens\": 20,\n",
    "        \"repetition_penalty\": 1.2,\n",
    "        \"temperature\": 0.6,\n",
    "        \"top_k\": 20,\n",
    "        \"top_n_tokens\": 5,\n",
    "        \"top_p\": 0.95,\n",
    "        \"typical_p\": 0.95,\n",
    "      }\n",
    "    }\n",
    "    json_body = json.dumps(body)\n",
    "    headers = {'Content-Type': 'application/json'}\n",
    "    \n",
    "    if raw_run: \n",
    "      all = []\n",
    "      full = 10\n",
    "      for i in range(10):\n",
    "        response = requests.post(url, data=json_body, headers=headers)\n",
    "        json_response = response.json()\n",
    "        match = re.search(r'Antwort:\\s*([1-5])', json_response[0]['generated_text'])\n",
    "        if match:\n",
    "          number = int(match.group(1))\n",
    "          all.append(number)\n",
    "        else:\n",
    "          full -= 1\n",
    "      print(index)\n",
    "      questionaire.loc[index, \"Answer\"] =  np.mean(all)\n",
    "      questionaire.loc[index, \"AllAnswers\"] = str(all)\n",
    "    else: \n",
    "      response = requests.post(url, data=json_body, headers=headers)\n",
    "      json_response = response.json()\n",
    "      match = re.search(r'Antwort:\\s*([1-5])', json_response[0]['generated_text'])\n",
    "      split_string = json_response[0]['generated_text'].split(\"Antwort:\")\n",
    "      if len(split_string) > 1:\n",
    "        fullAnswer = split_string[1].strip()\n",
    "      else:\n",
    "        fullAnswer = \"\"\n",
    "      if match:\n",
    "        number = int(match.group(1))\n",
    "        questionaire.loc[index, \"Answer\"] =  number\n",
    "        questionaire.loc[index, \"FullAnswer\"] = fullAnswer\n",
    "      else:\n",
    "        questionaire.loc[index, \"Answer\"] =  None\n",
    "        questionaire.loc[index, \"FullAnswer\"] = fullAnswer\n",
    "      if index % 200 == 0:\n",
    "        print(f\"Progress: {index}/5184\")\n",
    "  return questionaire"
   ]
  },
  {
   "cell_type": "code",
   "execution_count": null,
   "metadata": {},
   "outputs": [],
   "source": [
    "# raw_run\n",
    "\n",
    "modelName = \"occiglot\"\n",
    "result = doExperiment(raw_questions, True)\n",
    "saveToSvg(result, modelName, True)"
   ]
  },
  {
   "cell_type": "code",
   "execution_count": null,
   "metadata": {
    "metadata": {}
   },
   "outputs": [],
   "source": [
    "# persona run\n",
    "result = doExperiment(persona_questions, False)\n",
    "saveToSvg(result, modelName, False)"
   ]
  }
 ],
 "metadata": {
  "kernelspec": {
   "display_name": "base",
   "language": "python",
   "name": "python3"
  },
  "language_info": {
   "codemirror_mode": {
    "name": "ipython",
    "version": 3
   },
   "file_extension": ".py",
   "mimetype": "text/x-python",
   "name": "python",
   "nbconvert_exporter": "python",
   "pygments_lexer": "ipython3",
   "version": "3.11.5"
  }
 },
 "nbformat": 4,
 "nbformat_minor": 2
}
