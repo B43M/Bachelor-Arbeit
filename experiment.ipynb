{
 "cells": [
  {
   "cell_type": "code",
   "execution_count": 5,
   "metadata": {},
   "outputs": [],
   "source": [
    "import pandas as pd\n",
    "import numpy as np \n",
    "\n",
    "# \n",
    "these_data = pd.read_excel('Data\\Fulldata.xlsx')\n",
    "persona_data = pd.read_excel('Data\\Personas.xlsx')\n",
    "raw_questions = pd.DataFrame(None, columns=[\"Prompt\", \"Answer\", \"AllAnswers\"])\n",
    "for i in range(97):\n",
    "    for j in these_data.index:\n",
    "        if (these_data[\"These: Nr.\"][j] == i):\n",
    "            question = \"Skala:\\n 1: 'stimme gar nicht zu'\\n 2: 'Stimme nur teilweise zu'\\n 3: 'neutral'\\n 4: 'Stimme stark zu' \\n 5: 'stimme vollkommen zu'\\n Stimmst du der folgenden Aussage zu? '\"+ these_data[\"These: These\"][j] +\"' Antworte auf einer Skala von 1 bis 5.\\n Antwort:\"\n",
    "            raw_questions.loc[len(raw_questions.index)] = {\"Prompt\": question}\n",
    "            break\n",
    "persona_questions = pd.DataFrame(None, columns=[\"PartyId\", \"SourceId\", \"Prompt\", \"TheseId\", \"PartyPosition\", \"Answer\", \"FullAnswer\"])\n",
    "for index, these_row in these_data.iterrows():\n",
    "    for index, persona_row in persona_data.iterrows():\n",
    "        if(these_row['Partei: Nr.'] == persona_row['PartyId']):\n",
    "            prompt =\"Selbstbeschreibung: '\" + persona_row['Persona']+ \"' \" + \"Skala:\\n 1: 'stimme gar nicht zu'\\n 2: 'Stimme nur teilweise zu'\\n 3: 'neutral'\\n 4: 'Stimme stark zu' \\n 5: 'stimme vollkommen zu'\\n Stimmst du der folgenden Aussage zu? '\" + these_row['These: These'] + \"' Antworte auf einer Skala von 1 bis 5.\\n Antwort:\"\n",
    "            persona_questions.loc[len(persona_questions.index)] = {\"PartyId\": persona_row['PartyId'], \"SourceId\": persona_row['PartyId'], \"Prompt\": prompt, \"TheseId\": these_row['These: Nr.'], \"PartyPosition\": these_row['Position: Position']}\n",
    "\n",
    "        "
   ]
  },
  {
   "cell_type": "code",
   "execution_count": 2,
   "metadata": {},
   "outputs": [],
   "source": [
    "def saveToSvg(questionaire, name):\n",
    "    questionaire.to_csv('Results/' + name + '.csv')"
   ]
  },
  {
   "cell_type": "code",
   "execution_count": 18,
   "metadata": {},
   "outputs": [],
   "source": [
    "# dfki api requests\n",
    "import requests\n",
    "import json\n",
    "import re\n",
    "import numpy as np\n",
    "\n",
    "def doExperiment(questionaire, raw_run):\n",
    "  url = \"http://serv-3340.kl.dfki.de:5000\"\n",
    "  for index, row in questionaire.iterrows():\n",
    "    body = {\n",
    "      \"inputs\": row['Prompt'],\n",
    "      \"parameters\": {\n",
    "        \"best_of\": 1,\n",
    "        \"max_new_tokens\": 20,\n",
    "        \"repetition_penalty\": 1.03,\n",
    "        \"seed\": None,\n",
    "        \"temperature\": 0.6,\n",
    "        \"top_k\": 20,\n",
    "        \"top_n_tokens\": 5,\n",
    "        \"top_p\": 0.95,\n",
    "        \"typical_p\": 0.95,\n",
    "      }\n",
    "    }\n",
    "    json_body = json.dumps(body)\n",
    "    headers = {'Content-Type': 'application/json'}\n",
    "    \n",
    "    if raw_run: \n",
    "      all = []\n",
    "      full = 10\n",
    "      for i in range(10):\n",
    "        response = requests.post(url, data=json_body, headers=headers)\n",
    "        json_response = response.json()\n",
    "        match = re.search(r'Antwort:\\s*([1-5])', json_response[0]['generated_text'])\n",
    "        if match:\n",
    "          number = int(match.group(1))\n",
    "          all.append(number)\n",
    "        else:\n",
    "          full -= 1\n",
    "      print(index)\n",
    "      questionaire.loc[index, \"Answer\"] =  np.mean(all)\n",
    "      questionaire.loc[index, \"AllAnswers\"] = str(all)\n",
    "    else: \n",
    "      response = requests.post(url, data=json_body, headers=headers)\n",
    "      json_response = response.json()\n",
    "      match = re.search(r'Antwort:\\s*([1-5])', json_response[0]['generated_text'])\n",
    "      split_string = json_response[0]['generated_text'].split(\"Antwort:\")\n",
    "      if len(split_string) > 1:\n",
    "        fullAnswer = split_string[1].strip()\n",
    "      else:\n",
    "        fullAnswer = \"\"\n",
    "      if match:\n",
    "        number = int(match.group(1))\n",
    "        questionaire.loc[index, \"Answer\"] =  number\n",
    "        questionaire.loc[index, \"FullAnswer\"] = fullAnswer\n",
    "      else:\n",
    "        questionaire.loc[index, \"Answer\"] =  None\n",
    "        questionaire.loc[index, \"FullAnswer\"] = fullAnswer\n",
    "      if index % 200 == 0:\n",
    "        print(f\"Progress: {index}/5184\")\n",
    "  return questionaire"
   ]
  },
  {
   "cell_type": "code",
   "execution_count": 20,
   "metadata": {},
   "outputs": [
    {
     "name": "stdout",
     "output_type": "stream",
     "text": [
      "Progress: 0/5184\n",
      "Progress: 200/5184\n",
      "Progress: 400/5184\n",
      "Progress: 600/5184\n",
      "Progress: 800/5184\n",
      "Progress: 1000/5184\n",
      "Progress: 1200/5184\n",
      "Progress: 1400/5184\n",
      "Progress: 1600/5184\n",
      "Progress: 1800/5184\n",
      "Progress: 2000/5184\n",
      "Progress: 2200/5184\n",
      "Progress: 2400/5184\n",
      "Progress: 2600/5184\n",
      "Progress: 2800/5184\n",
      "Progress: 3000/5184\n",
      "Progress: 3200/5184\n",
      "Progress: 3400/5184\n",
      "Progress: 3600/5184\n",
      "Progress: 3800/5184\n",
      "Progress: 4000/5184\n",
      "Progress: 4200/5184\n",
      "Progress: 4400/5184\n",
      "Progress: 4600/5184\n",
      "Progress: 4800/5184\n",
      "Progress: 5000/5184\n"
     ]
    }
   ],
   "source": [
    "result = doExperiment(persona_questions, False)\n",
    "saveToSvg(result, \"TheBloke_leo-hessianai-70B-chat-AWQ_persona\")"
   ]
  }
 ],
 "metadata": {
  "kernelspec": {
   "display_name": "base",
   "language": "python",
   "name": "python3"
  },
  "language_info": {
   "codemirror_mode": {
    "name": "ipython",
    "version": 3
   },
   "file_extension": ".py",
   "mimetype": "text/x-python",
   "name": "python",
   "nbconvert_exporter": "python",
   "pygments_lexer": "ipython3",
   "version": "3.11.5"
  }
 },
 "nbformat": 4,
 "nbformat_minor": 2
}
